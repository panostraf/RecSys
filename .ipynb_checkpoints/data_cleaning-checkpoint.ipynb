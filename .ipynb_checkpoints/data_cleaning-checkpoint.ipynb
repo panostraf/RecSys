{
 "cells": [
  {
   "cell_type": "code",
   "execution_count": 42,
   "id": "bb30e65a",
   "metadata": {},
   "outputs": [],
   "source": [
    "import pandas as pd\n",
    "import calendar\n",
    "import datetime\n",
    "import pandas as pd\n",
    "import numpy as np\n",
    "import matplotlib.pyplot as plt\n",
    "import seaborn as sns\n",
    "from sklearn.ensemble import RandomForestClassifier\n",
    "from sklearn.model_selection import train_test_split\n",
    "from sklearn.decomposition import PCA\n",
    "from sklearn.decomposition import PCA\n",
    "import math"
   ]
  },
  {
   "cell_type": "code",
   "execution_count": 43,
   "id": "06cf0109",
   "metadata": {},
   "outputs": [],
   "source": [
    "# load Data\n",
    "cand_items = pd.read_csv('dressipi_recsys2022/candidate_items.csv', sep=',')\n",
    "item_features = pd.read_csv('clustered_features.csv', sep=',')\n",
    "train_purchases = pd.read_csv('dressipi_recsys2022/train_purchases.csv', sep=',')\n",
    "train_sessions = pd.read_csv('dressipi_recsys2022/train_sessions.csv', sep=',')"
   ]
  },
  {
   "cell_type": "code",
   "execution_count": 44,
   "id": "baeccc85",
   "metadata": {},
   "outputs": [],
   "source": [
    "# remove sessions that purchased items that are not included in candidate items\n",
    "train_purchases = train_purchases[train_purchases.item_id.isin(cand_items.item_id)]\n",
    "train_sessions = train_sessions[train_sessions.session_id.isin(train_purchases.session_id)]"
   ]
  },
  {
   "cell_type": "code",
   "execution_count": 45,
   "id": "57aef05a",
   "metadata": {},
   "outputs": [
    {
     "data": {
      "text/plain": [
       "((450153, 3), (2085385, 3))"
      ]
     },
     "execution_count": 45,
     "metadata": {},
     "output_type": "execute_result"
    }
   ],
   "source": [
    "train_purchases.shape,train_sessions.shape"
   ]
  },
  {
   "cell_type": "code",
   "execution_count": 46,
   "id": "90ee5936",
   "metadata": {},
   "outputs": [
    {
     "data": {
      "text/html": [
       "<div>\n",
       "<style scoped>\n",
       "    .dataframe tbody tr th:only-of-type {\n",
       "        vertical-align: middle;\n",
       "    }\n",
       "\n",
       "    .dataframe tbody tr th {\n",
       "        vertical-align: top;\n",
       "    }\n",
       "\n",
       "    .dataframe thead th {\n",
       "        text-align: right;\n",
       "    }\n",
       "</style>\n",
       "<table border=\"1\" class=\"dataframe\">\n",
       "  <thead>\n",
       "    <tr style=\"text-align: right;\">\n",
       "      <th></th>\n",
       "      <th>item_id</th>\n",
       "      <th>n_purchased</th>\n",
       "      <th>z_score</th>\n",
       "    </tr>\n",
       "  </thead>\n",
       "  <tbody>\n",
       "    <tr>\n",
       "      <th>0</th>\n",
       "      <td>4</td>\n",
       "      <td>80</td>\n",
       "      <td>-0.056957</td>\n",
       "    </tr>\n",
       "    <tr>\n",
       "      <th>1</th>\n",
       "      <td>8</td>\n",
       "      <td>24</td>\n",
       "      <td>-0.316246</td>\n",
       "    </tr>\n",
       "    <tr>\n",
       "      <th>2</th>\n",
       "      <td>9</td>\n",
       "      <td>3</td>\n",
       "      <td>-0.413480</td>\n",
       "    </tr>\n",
       "    <tr>\n",
       "      <th>3</th>\n",
       "      <td>19</td>\n",
       "      <td>14</td>\n",
       "      <td>-0.362548</td>\n",
       "    </tr>\n",
       "    <tr>\n",
       "      <th>4</th>\n",
       "      <td>20</td>\n",
       "      <td>56</td>\n",
       "      <td>-0.168081</td>\n",
       "    </tr>\n",
       "    <tr>\n",
       "      <th>...</th>\n",
       "      <td>...</td>\n",
       "      <td>...</td>\n",
       "      <td>...</td>\n",
       "    </tr>\n",
       "    <tr>\n",
       "      <th>4872</th>\n",
       "      <td>28128</td>\n",
       "      <td>64</td>\n",
       "      <td>-0.131039</td>\n",
       "    </tr>\n",
       "    <tr>\n",
       "      <th>4873</th>\n",
       "      <td>28131</td>\n",
       "      <td>16</td>\n",
       "      <td>-0.353288</td>\n",
       "    </tr>\n",
       "    <tr>\n",
       "      <th>4874</th>\n",
       "      <td>28132</td>\n",
       "      <td>80</td>\n",
       "      <td>-0.056957</td>\n",
       "    </tr>\n",
       "    <tr>\n",
       "      <th>4875</th>\n",
       "      <td>28133</td>\n",
       "      <td>479</td>\n",
       "      <td>1.790481</td>\n",
       "    </tr>\n",
       "    <tr>\n",
       "      <th>4876</th>\n",
       "      <td>28137</td>\n",
       "      <td>67</td>\n",
       "      <td>-0.117149</td>\n",
       "    </tr>\n",
       "  </tbody>\n",
       "</table>\n",
       "<p>4877 rows × 3 columns</p>\n",
       "</div>"
      ],
      "text/plain": [
       "      item_id  n_purchased   z_score\n",
       "0           4           80 -0.056957\n",
       "1           8           24 -0.316246\n",
       "2           9            3 -0.413480\n",
       "3          19           14 -0.362548\n",
       "4          20           56 -0.168081\n",
       "...       ...          ...       ...\n",
       "4872    28128           64 -0.131039\n",
       "4873    28131           16 -0.353288\n",
       "4874    28132           80 -0.056957\n",
       "4875    28133          479  1.790481\n",
       "4876    28137           67 -0.117149\n",
       "\n",
       "[4877 rows x 3 columns]"
      ]
     },
     "execution_count": 46,
     "metadata": {},
     "output_type": "execute_result"
    }
   ],
   "source": [
    "# create a z_score on the purchase frequency of the items\n",
    "\n",
    "purchases_frequency = train_purchases.groupby('item_id').count().reset_index().drop('date',axis=1)\n",
    "purchases_frequency.columns = ['item_id','n_purchased']\n",
    "purchases_frequency['z_score'] = (purchases_frequency['n_purchased'] - purchases_frequency['n_purchased'].mean())/purchases_frequency['n_purchased'].std()\n",
    "purchases_frequency"
   ]
  },
  {
   "cell_type": "code",
   "execution_count": 47,
   "id": "63575ae3",
   "metadata": {
    "scrolled": true
   },
   "outputs": [
    {
     "data": {
      "image/png": "[encoded data removed]",
      "text/plain": [
       "<Figure size 864x288 with 1 Axes>"
      ]
     },
     "metadata": {
      "needs_background": "light"
     },
     "output_type": "display_data"
    }
   ],
   "source": [
    "# plot distribution of item purchase popularity\n",
    "threshold = 0.25\n",
    "\n",
    "plt.figure(figsize=(12,4))\n",
    "# purchases_frequency[purchases_frequency['z_score']<=0.005289]['z_score'].hist(bins=50,label='frequency')\n",
    "purchases_frequency['z_score'].hist(bins=50,label='frequency')\n",
    "plt.vlines(threshold,0,2500,color='red',label='threshold')\n",
    "# plt.vlines(purchases_frequency['z_score'].median,0,17500,color='red',label='threshold')\n",
    "plt.legend()\n",
    "plt.title('Histogram of purchase frequency (up to average probability for scale purposes)')\n",
    "plt.xlabel('probability')\n",
    "plt.ylabel('frequency')\n",
    "plt.show()"
   ]
  },
  {
   "cell_type": "code",
   "execution_count": 48,
   "id": "0abeaa9e",
   "metadata": {},
   "outputs": [],
   "source": [
    "# exclude items with popularity less than the threshold and sessions that purchased those items\n",
    "purchases_frequency = purchases_frequency[purchases_frequency['z_score']>=threshold]\n",
    "train_purchases=train_purchases[train_purchases.item_id.isin(purchases_frequency['item_id'].unique())]\n",
    "train_sessions = train_sessions[train_sessions.session_id.isin(train_purchases['session_id'].unique())]"
   ]
  },
  {
   "cell_type": "code",
   "execution_count": 49,
   "id": "75adde90",
   "metadata": {},
   "outputs": [
    {
     "data": {
      "text/plain": [
       "666"
      ]
     },
     "execution_count": 49,
     "metadata": {},
     "output_type": "execute_result"
    }
   ],
   "source": [
    "# remaining items to reccomend from:\n",
    "train_purchases.item_id.nunique()"
   ]
  },
  {
   "cell_type": "code",
   "execution_count": 50,
   "id": "eb0ff644",
   "metadata": {},
   "outputs": [
    {
     "data": {
      "text/plain": [
       "(255335, 1091764)"
      ]
     },
     "execution_count": 50,
     "metadata": {},
     "output_type": "execute_result"
    }
   ],
   "source": [
    "# datasets shapes\n",
    "len(train_purchases),len(train_sessions)"
   ]
  },
  {
   "cell_type": "code",
   "execution_count": null,
   "id": "ab01064a",
   "metadata": {},
   "outputs": [],
   "source": [
    "# store the cleanned sessions and purchases "
   ]
  },
  {
   "cell_type": "code",
   "execution_count": 55,
   "id": "6841ed8b",
   "metadata": {},
   "outputs": [],
   "source": [
    "train_sessions.to_csv('train_sessions_cleanned.csv',index=False)\n",
    "train_purchases.to_csv('train_purchases_cleanned.csv',index=False)"
   ]
  }
 ],
 "metadata": {
  "kernelspec": {
   "display_name": "Python 3 (ipykernel)",
   "language": "python",
   "name": "python3"
  },
  "language_info": {
   "codemirror_mode": {
    "name": "ipython",
    "version": 3
   },
   "file_extension": ".py",
   "mimetype": "text/x-python",
   "name": "python",
   "nbconvert_exporter": "python",
   "pygments_lexer": "ipython3",
   "version": "3.8.10"
  }
 },
 "nbformat": 4,
 "nbformat_minor": 5
}
