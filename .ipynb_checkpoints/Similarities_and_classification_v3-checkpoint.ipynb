{
 "cells": [
  {
   "cell_type": "code",
   "execution_count": 2,
   "id": "eee3761b",
   "metadata": {},
   "outputs": [],
   "source": [
    "import pandas as pd\n",
    "import random\n",
    "import numpy as np"
   ]
  },
  {
   "cell_type": "code",
   "execution_count": 3,
   "id": "06792838",
   "metadata": {},
   "outputs": [],
   "source": [
    "item_features = pd.read_csv('dressipi_recsys2022/item_features.csv', sep=',')\n",
    "clusters = pd.read_csv('clustered_features.csv')\n",
    "# purchases = pd.read_csv('train_purchases_cleanned.csv')\n",
    "# sessions = pd.read_csv('train_sessions_cleanned.csv')\n",
    "sessions = pd.read_csv('dressipi_recsys2022/train_sessions.csv')\n",
    "purchases = pd.read_csv('dressipi_recsys2022/train_purchases.csv')\n",
    "cand_items = pd.read_csv('dressipi_recsys2022/candidate_items.csv', sep=',')\n",
    "# item_embedings = pd.read_csv('item_embeddings.csv')\n",
    "\n",
    "# train_purchases = pd.read_csv('dressipi_recsys2022/train_purchases.csv', sep=',')\n",
    "# train_sessions = pd.read_csv('dressipi_recsys2022/train_sessions.csv', sep=',')\n",
    "# purchases = train_purchases\n",
    "# sessions = train_sessions\n",
    "\n",
    "purchases = purchases[purchases.item_id.isin(cand_items.item_id)]\n",
    "sessions = sessions[sessions.session_id.isin(purchases.session_id)]\n"
   ]
  },
  {
   "cell_type": "code",
   "execution_count": 5,
   "id": "86f90518",
   "metadata": {},
   "outputs": [],
   "source": [
    "# only items with >1 views\n",
    "a = sessions.copy().groupby('session_id').count().reset_index()\n",
    "a = a[a.item_id>1].sort_values(by='item_id')\n",
    "a = a[a.item_id<30]\n",
    "a\n",
    "sessions = sessions[sessions.session_id.isin(a.session_id)]\n",
    "purchases = purchases[purchases.session_id.isin(sessions.session_id)]"
   ]
  },
  {
   "cell_type": "code",
   "execution_count": 6,
   "id": "ef599331",
   "metadata": {},
   "outputs": [
    {
     "data": {
      "text/plain": [
       "<AxesSubplot:>"
      ]
     },
     "execution_count": 6,
     "metadata": {},
     "output_type": "execute_result"
    },
    {
     "data": {
      "image/png": "[encoded data removed]",
      "text/plain": [
       "<Figure size 432x288 with 1 Axes>"
      ]
     },
     "metadata": {
      "needs_background": "light"
     },
     "output_type": "display_data"
    }
   ],
   "source": [
    "sessions.copy().groupby('session_id').count().item_id.hist(bins=50)"
   ]
  },
  {
   "cell_type": "code",
   "execution_count": 8,
   "id": "b87c7708",
   "metadata": {},
   "outputs": [
    {
     "data": {
      "image/png": "[encoded data removed]",
      "text/plain": [
       "<Figure size 864x432 with 1 Axes>"
      ]
     },
     "metadata": {
      "needs_background": "light"
     },
     "output_type": "display_data"
    }
   ],
   "source": [
    "from sklearn.decomposition import PCA\n",
    "import pandas as pd\n",
    "import matplotlib.pyplot as plt\n",
    "\n",
    "parameters ={\n",
    "    'df_path' : 'dressipi_recsys2022/item_features.csv',\n",
    "    'components_pca_plot' : 50, # How many points the plot will have at the end\n",
    "    'pca_components': 12,\n",
    "\n",
    "    \n",
    "}\n",
    "\n",
    "\n",
    "item_features = pd.read_csv(parameters['df_path'],sep=',')\n",
    "\n",
    "item_features.columns = ['item_id','feature_category_id','feature_value_id']\n",
    "# item_features\n",
    "\n",
    "value_embeddings = item_features.pivot_table(values='feature_value_id', index='feature_value_id', columns='feature_category_id', aggfunc=lambda x: len(x.unique()))\n",
    "\n",
    "category_embeddings = item_features.merge(value_embeddings, left_on='feature_value_id' ,right_on=value_embeddings.index).groupby('feature_category_id').sum().drop(['item_id','feature_value_id'],axis=1)\n",
    "item_embeddings = item_features.merge(category_embeddings,left_on='feature_category_id',right_on=category_embeddings.index).groupby('item_id').sum().drop(['feature_category_id','feature_value_id'],axis=1)\n",
    "\n",
    "# # item_embeddings = pd.concat([pd.Series(item_embeddings.index),pd.DataFrame(reduced_item_embeddings)],axis=1)\n",
    "# item_embeddings.to_csv('item_embeddings.csv',index=False)\n",
    "\n",
    "\n",
    "ratios = []\n",
    "\n",
    "for i in range(3,parameters['components_pca_plot']):\n",
    "  pca = PCA(n_components=i)\n",
    "  pca.fit(item_embeddings.values)\n",
    "  r = pca.explained_variance_ratio_.sum()\n",
    "  ratios.append(r)\n",
    "\n",
    "plt.figure(figsize=(12,6))\n",
    "plt.plot([i for i in range(3,parameters['components_pca_plot'])],ratios)\n",
    "plt.title('(PCA) Excplained Variance Ratio per Number of Components')\n",
    "plt.xlabel('Number Of Components')\n",
    "plt.ylabel('Explained Variance Ratio')\n",
    "plt.show()\n",
    "\n",
    "\n",
    "# components = 30\n",
    "pca = PCA(n_components=parameters['pca_components'])\n",
    "pca.fit(item_embeddings.values)\n",
    "reduced_item_embeddings = pca.transform(item_embeddings.values)\n",
    "# reduced_item_embeddings = item_embeddings\n",
    "\n",
    "\n",
    "item_embeddings = pd.concat([pd.Series(item_embeddings.index),pd.DataFrame(reduced_item_embeddings)],axis=1)\n",
    "# item_embeddings.to_csv('item_embeddings.csv',index=False)\n",
    "\n",
    "\n"
   ]
  },
  {
   "cell_type": "code",
   "execution_count": 9,
   "id": "082b5203",
   "metadata": {},
   "outputs": [
    {
     "data": {
      "text/html": [
       "<div>\n",
       "<style scoped>\n",
       "    .dataframe tbody tr th:only-of-type {\n",
       "        vertical-align: middle;\n",
       "    }\n",
       "\n",
       "    .dataframe tbody tr th {\n",
       "        vertical-align: top;\n",
       "    }\n",
       "\n",
       "    .dataframe thead th {\n",
       "        text-align: right;\n",
       "    }\n",
       "</style>\n",
       "<table border=\"1\" class=\"dataframe\">\n",
       "  <thead>\n",
       "    <tr style=\"text-align: right;\">\n",
       "      <th></th>\n",
       "      <th>session_id</th>\n",
       "      <th>item_id</th>\n",
       "      <th>date</th>\n",
       "      <th>0</th>\n",
       "      <th>1</th>\n",
       "      <th>2</th>\n",
       "      <th>3</th>\n",
       "      <th>4</th>\n",
       "      <th>5</th>\n",
       "      <th>6</th>\n",
       "      <th>7</th>\n",
       "      <th>8</th>\n",
       "      <th>9</th>\n",
       "      <th>10</th>\n",
       "      <th>11</th>\n",
       "    </tr>\n",
       "  </thead>\n",
       "  <tbody>\n",
       "    <tr>\n",
       "      <th>0</th>\n",
       "      <td>31</td>\n",
       "      <td>8345</td>\n",
       "      <td>2021-04-20 19:46:42.594</td>\n",
       "      <td>1.603869e+08</td>\n",
       "      <td>-4.192809e+06</td>\n",
       "      <td>-4.393557e+07</td>\n",
       "      <td>-6.478166e+06</td>\n",
       "      <td>-1.140432e+07</td>\n",
       "      <td>5.871020e+06</td>\n",
       "      <td>-4.962349e+06</td>\n",
       "      <td>-1.805804e+06</td>\n",
       "      <td>8.340416e+06</td>\n",
       "      <td>2.798928e+06</td>\n",
       "      <td>-9.216943e+06</td>\n",
       "      <td>-6.384601e+06</td>\n",
       "    </tr>\n",
       "    <tr>\n",
       "      <th>1</th>\n",
       "      <td>4938</td>\n",
       "      <td>8345</td>\n",
       "      <td>2021-02-28 12:38:52.431</td>\n",
       "      <td>1.603869e+08</td>\n",
       "      <td>-4.192809e+06</td>\n",
       "      <td>-4.393557e+07</td>\n",
       "      <td>-6.478166e+06</td>\n",
       "      <td>-1.140432e+07</td>\n",
       "      <td>5.871020e+06</td>\n",
       "      <td>-4.962349e+06</td>\n",
       "      <td>-1.805804e+06</td>\n",
       "      <td>8.340416e+06</td>\n",
       "      <td>2.798928e+06</td>\n",
       "      <td>-9.216943e+06</td>\n",
       "      <td>-6.384601e+06</td>\n",
       "    </tr>\n",
       "    <tr>\n",
       "      <th>2</th>\n",
       "      <td>76619</td>\n",
       "      <td>8345</td>\n",
       "      <td>2021-03-01 20:06:27.368</td>\n",
       "      <td>1.603869e+08</td>\n",
       "      <td>-4.192809e+06</td>\n",
       "      <td>-4.393557e+07</td>\n",
       "      <td>-6.478166e+06</td>\n",
       "      <td>-1.140432e+07</td>\n",
       "      <td>5.871020e+06</td>\n",
       "      <td>-4.962349e+06</td>\n",
       "      <td>-1.805804e+06</td>\n",
       "      <td>8.340416e+06</td>\n",
       "      <td>2.798928e+06</td>\n",
       "      <td>-9.216943e+06</td>\n",
       "      <td>-6.384601e+06</td>\n",
       "    </tr>\n",
       "    <tr>\n",
       "      <th>3</th>\n",
       "      <td>150744</td>\n",
       "      <td>8345</td>\n",
       "      <td>2021-03-01 11:58:54.59</td>\n",
       "      <td>1.603869e+08</td>\n",
       "      <td>-4.192809e+06</td>\n",
       "      <td>-4.393557e+07</td>\n",
       "      <td>-6.478166e+06</td>\n",
       "      <td>-1.140432e+07</td>\n",
       "      <td>5.871020e+06</td>\n",
       "      <td>-4.962349e+06</td>\n",
       "      <td>-1.805804e+06</td>\n",
       "      <td>8.340416e+06</td>\n",
       "      <td>2.798928e+06</td>\n",
       "      <td>-9.216943e+06</td>\n",
       "      <td>-6.384601e+06</td>\n",
       "    </tr>\n",
       "    <tr>\n",
       "      <th>4</th>\n",
       "      <td>1530975</td>\n",
       "      <td>8345</td>\n",
       "      <td>2021-04-16 22:07:06.584</td>\n",
       "      <td>1.603869e+08</td>\n",
       "      <td>-4.192809e+06</td>\n",
       "      <td>-4.393557e+07</td>\n",
       "      <td>-6.478166e+06</td>\n",
       "      <td>-1.140432e+07</td>\n",
       "      <td>5.871020e+06</td>\n",
       "      <td>-4.962349e+06</td>\n",
       "      <td>-1.805804e+06</td>\n",
       "      <td>8.340416e+06</td>\n",
       "      <td>2.798928e+06</td>\n",
       "      <td>-9.216943e+06</td>\n",
       "      <td>-6.384601e+06</td>\n",
       "    </tr>\n",
       "  </tbody>\n",
       "</table>\n",
       "</div>"
      ],
      "text/plain": [
       "   session_id  item_id                     date             0             1  \\\n",
       "0          31     8345  2021-04-20 19:46:42.594  1.603869e+08 -4.192809e+06   \n",
       "1        4938     8345  2021-02-28 12:38:52.431  1.603869e+08 -4.192809e+06   \n",
       "2       76619     8345  2021-03-01 20:06:27.368  1.603869e+08 -4.192809e+06   \n",
       "3      150744     8345   2021-03-01 11:58:54.59  1.603869e+08 -4.192809e+06   \n",
       "4     1530975     8345  2021-04-16 22:07:06.584  1.603869e+08 -4.192809e+06   \n",
       "\n",
       "              2             3             4             5             6  \\\n",
       "0 -4.393557e+07 -6.478166e+06 -1.140432e+07  5.871020e+06 -4.962349e+06   \n",
       "1 -4.393557e+07 -6.478166e+06 -1.140432e+07  5.871020e+06 -4.962349e+06   \n",
       "2 -4.393557e+07 -6.478166e+06 -1.140432e+07  5.871020e+06 -4.962349e+06   \n",
       "3 -4.393557e+07 -6.478166e+06 -1.140432e+07  5.871020e+06 -4.962349e+06   \n",
       "4 -4.393557e+07 -6.478166e+06 -1.140432e+07  5.871020e+06 -4.962349e+06   \n",
       "\n",
       "              7             8             9            10            11  \n",
       "0 -1.805804e+06  8.340416e+06  2.798928e+06 -9.216943e+06 -6.384601e+06  \n",
       "1 -1.805804e+06  8.340416e+06  2.798928e+06 -9.216943e+06 -6.384601e+06  \n",
       "2 -1.805804e+06  8.340416e+06  2.798928e+06 -9.216943e+06 -6.384601e+06  \n",
       "3 -1.805804e+06  8.340416e+06  2.798928e+06 -9.216943e+06 -6.384601e+06  \n",
       "4 -1.805804e+06  8.340416e+06  2.798928e+06 -9.216943e+06 -6.384601e+06  "
      ]
     },
     "execution_count": 9,
     "metadata": {},
     "output_type": "execute_result"
    }
   ],
   "source": [
    "session_embeddings = sessions.copy().merge(item_embeddings).groupby('session_id').sum().drop('item_id',axis=1).reset_index()\n",
    "purchase_embeddings = purchases.merge(item_embeddings)\n",
    "# session_embeddings.merge(purchase_embeddings)\n",
    "purchase_embeddings.head()"
   ]
  },
  {
   "cell_type": "code",
   "execution_count": 10,
   "id": "1e63ce39",
   "metadata": {},
   "outputs": [],
   "source": [
    "train_data = session_embeddings.merge(purchase_embeddings, on='session_id')\n",
    "train_data = train_data.sample(frac=1)\n",
    "train_data = train_data.merge(clusters[['cluster','item_id']])"
   ]
  },
  {
   "cell_type": "code",
   "execution_count": 11,
   "id": "0214aece",
   "metadata": {},
   "outputs": [
    {
     "data": {
      "text/plain": [
       "(305712, 27)"
      ]
     },
     "execution_count": 11,
     "metadata": {},
     "output_type": "execute_result"
    }
   ],
   "source": [
    "train_data.drop('date',axis=1,inplace=True)\n",
    "train_data.dropna(axis=0,inplace=True)\n",
    "train_data.shape"
   ]
  },
  {
   "cell_type": "code",
   "execution_count": 12,
   "id": "0e8c5410",
   "metadata": {},
   "outputs": [],
   "source": [
    "from sklearn.preprocessing import StandardScaler\n",
    "\n",
    "split = int(round(len(train_data)*0.1))\n",
    "\n",
    "xc = [col for col in train_data.columns if str(col)[-1]=='x']\n",
    "xy = [col for col in train_data.columns if str(col)[-1]=='y']\n",
    "\n",
    "\n",
    "\n",
    "\n",
    "train_data_cluster = train_data['cluster'].values\n",
    "\n",
    "train_data_x_vector = train_data[xc].reset_index().drop('index',axis=1).values\n",
    "train_data_y_vector = train_data[xy].reset_index().drop('index',axis=1).values\n",
    "train_data_session_id = train_data['session_id'].reset_index().drop('index',axis=1).values\n",
    "train_data_y = train_data['item_id'].reset_index().drop('index',axis=1).values\n",
    "\n",
    "\n",
    "\n",
    "# t = train_data.sample(frac=0.3)\n",
    "\n",
    "# # scaler = StandardScaler()\n",
    "# # scaler.fit(train_data_x_vector)\n",
    "# # x_train = scaler.transform(train_data_x_vector)\n",
    "# # x_test = scaler.transform(x_test)\n",
    "\n",
    "# from sklearn.ensemble import RandomForestClassifier\n",
    "# from sklearn.neural_network import MLPClassifier\n",
    "# clf = MLPClassifier(max_iter=200,activation='tanh')\n",
    "# clf.fit(t[xc], t['item_id'])\n",
    "# # clf.score(t, train_data_y)\n",
    "\n",
    "len_clusters = len(clusters.cluster.unique())\n",
    "\n",
    "import pickle\n",
    "\n",
    "def predict_class(clf,session,sid,clusters,proba=True):\n",
    "    if sid not in session.session_id.unique():\n",
    "        return \"no recommendation for sessions with only one item view\"\n",
    "    s = session[session.session_id==sid].merge(clusters).groupby('session_id').sum().iloc[:,-len_clusters:]\n",
    "    \n",
    "    if proba==True:\n",
    "        cluster_proba = clf.predict_proba(s)\n",
    "        \n",
    "        cluster_proba = np.array([np.array(cluster_proba[0]),[str(i) for i in range(12)]]).T\n",
    "        top_clusters = [c[0] for c in np.argsort(cluster_proba,axis=0)[::-1][:5]]\n",
    "        return top_clusters \n",
    "\n",
    "    else:\n",
    "        return clf.predict(s)\n",
    "\n",
    "clf = pickle.load(open('random_forest_predict_cluster.pickle','rb'))\n",
    "\n",
    "from sklearn.metrics.pairwise import cosine_similarity\n",
    "\n",
    "def get_similarities(test, train, y_train, train_cluster, session_id):\n",
    "    \n",
    "    sim = cosine_similarity([test],train)\n",
    "    results = pd.DataFrame(sim.T)\n",
    "    \n",
    "    \n",
    "    results = pd.concat([results,pd.DataFrame(y_train)],axis=1) # add item_id (y_train)\n",
    "    results = pd.concat([results,pd.DataFrame(train_cluster)],axis=1) # add cluster of session\n",
    "    results = pd.concat([results,pd.DataFrame(session_id)],axis=1) # add session_id\n",
    "    results.columns = ['similarities','item_id','cluster','session_id'] # rename dataframe\n",
    "    \n",
    "    return results.sort_values(by='similarities',ascending=False)\n",
    "\n",
    "\n",
    "\n",
    "\n",
    "class topN_results:\n",
    "    def __init__(self):\n",
    "        self.correct = 0\n",
    "        \n",
    "        \n",
    "    def plus_one(self,n_top,results,y_true):\n",
    "        if y_true in results[:n_top]:\n",
    "            self.correct +=1"
   ]
  },
  {
   "cell_type": "code",
   "execution_count": null,
   "id": "51ecc147",
   "metadata": {},
   "outputs": [],
   "source": []
  },
  {
   "cell_type": "code",
   "execution_count": null,
   "id": "61bda65e",
   "metadata": {
    "scrolled": true
   },
   "outputs": [],
   "source": [
    "new_session = 332\n",
    "correct = 0\n",
    "correct_class = 0\n",
    "top200 = topN_results()\n",
    "top100 = topN_results()\n",
    "top50 = topN_results()\n",
    "top20 = topN_results()\n",
    "top10 = topN_results()\n",
    "top5 = topN_results()\n",
    "top1 = topN_results()\n",
    "\n",
    "\n",
    "top2200 = topN_results()\n",
    "top2100 = topN_results()\n",
    "top250 = topN_results()\n",
    "top220 = topN_results()\n",
    "top210 = topN_results()\n",
    "top25 = topN_results()\n",
    "top21 = topN_results()\n",
    "\n",
    "\n",
    "ii = 0\n",
    "n_samples = 100\n",
    "train_data=train_data.reset_index().drop('index',axis=1)\n",
    "for new_session in random.sample(set(train_data.session_id.unique()),n_samples):\n",
    "    # predict the class of the item\n",
    "\n",
    "#     new_session_index = train_data_session_id[train_data_session_id==new_session].index[0]\n",
    "    new_session_index = np.where(train_data_session_id==new_session)[0][0]\n",
    "    class_ = predict_class(clf,sessions,new_session,clusters,proba=True)\n",
    "\n",
    "    # print the real class\n",
    "#     print('predicted class:', class_)\n",
    "\n",
    "    # find similarities and print the 5 most similar\n",
    "    try:\n",
    "        results = get_similarities(train_data_x_vector[new_session_index],\n",
    "#                                train_data_x_vector,\n",
    "                                train_data_y_vector,\n",
    "                               train_data_y,\n",
    "                               train_data_cluster,\n",
    "                               train_data_session_id)\n",
    "    except IndexError:\n",
    "        print(new_session,new_session_index)\n",
    "        continue\n",
    "    \n",
    "#     results = results[results.similarities>0]\n",
    "#     results=results[results.cluster.isin(list(class_))]\n",
    "    \n",
    "    \n",
    "    if train_data_cluster[new_session_index] in class_:\n",
    "        correct_class +=1\n",
    "#     print('purchased item:', train_data_y[new_session]) \n",
    "\n",
    "    # print('reccomended: ',results[:50])\n",
    "    # print the real purchased item\n",
    "    try:\n",
    "#         results.drop(new_session,inplace=True)\n",
    "        results.drop(results.loc[results['session_id']==new_session].index, inplace=True)\n",
    "    except KeyError:\n",
    "        print(\"not in list\")\n",
    "        break\n",
    "        \n",
    "    results2 = results.groupby('item_id').mean().reset_index()\n",
    "    results2 = results2[results2.similarities>0]\n",
    "    \n",
    "    top200.plus_one(200, results['item_id'].tolist(), train_data_y[new_session_index] )\n",
    "    top100.plus_one(100, results['item_id'].tolist(), train_data_y[new_session_index] )\n",
    "    top50.plus_one(50, results['item_id'].tolist(), train_data_y[new_session_index] )\n",
    "    top20.plus_one(20, results['item_id'].tolist(), train_data_y[new_session_index] )\n",
    "    top10.plus_one(10, results['item_id'].tolist(), train_data_y[new_session_index] )\n",
    "    top5.plus_one(5, results['item_id'].tolist(), train_data_y[new_session_index] )\n",
    "    top1.plus_one(1, results['item_id'].tolist(), train_data_y[new_session_index] )\n",
    "    \n",
    "    top2200.plus_one(200, results2['item_id'].tolist(), train_data_y[new_session_index] )\n",
    "    top2100.plus_one(100, results2['item_id'].tolist(), train_data_y[new_session_index] )\n",
    "    top250.plus_one(50, results2['item_id'].tolist(), train_data_y[new_session_index] )\n",
    "    top220.plus_one(20, results2['item_id'].tolist(), train_data_y[new_session_index] )\n",
    "    top210.plus_one(10, results2['item_id'].tolist(), train_data_y[new_session_index] )\n",
    "    top25.plus_one(5, results2['item_id'].tolist(), train_data_y[new_session_index] )\n",
    "    top21.plus_one(1, results2['item_id'].tolist(), train_data_y[new_session_index] )\n",
    "    \n",
    "    if train_data_y[new_session_index] in results['item_id'].tolist()[:2]:\n",
    "        correct +=1\n",
    "    ii+=1\n",
    "    if ii % 100 == 0:\n",
    "        print('-',ii)\n",
    "correct"
   ]
  },
  {
   "cell_type": "code",
   "execution_count": 29,
   "id": "7534ebbf",
   "metadata": {},
   "outputs": [
    {
     "data": {
      "image/png": "[encoded data removed]",
      "text/plain": [
       "<Figure size 432x288 with 1 Axes>"
      ]
     },
     "metadata": {
      "needs_background": "light"
     },
     "output_type": "display_data"
    }
   ],
   "source": [
    "tops2 = [top21.correct,top25.correct,top210.correct,top220.correct,top250.correct,top2100.correct,top2200.correct]\n",
    "\n",
    "\n",
    "plt.bar(['top1','top5','top10','top20','top50','top100','top200'],tops2)\n",
    "plt.ylim(0,n_samples)\n",
    "plt.grid()\n",
    "plt.show()\n",
    "\n",
    "\n",
    "# tops = [t/n_samples for t in tops]\n",
    "# plt.bar(['top1','top5','top10','top20','top50','top100','top200'],tops2)\n",
    "# plt.ylim(0,1)\n",
    "# plt.grid()\n",
    "# plt.show()"
   ]
  },
  {
   "cell_type": "code",
   "execution_count": 30,
   "id": "5baba423",
   "metadata": {},
   "outputs": [
    {
     "data": {
      "image/png": "[encoded data removed]",
      "text/plain": [
       "<Figure size 432x288 with 1 Axes>"
      ]
     },
     "metadata": {
      "needs_background": "light"
     },
     "output_type": "display_data"
    }
   ],
   "source": [
    "tops = [top1.correct,top5.correct,top10.correct,top20.correct,top50.correct,top100.correct,top200.correct]\n",
    "\n",
    "\n",
    "plt.bar(['top1','top5','top10','top20','top50','top100','top200'],tops)\n",
    "plt.ylim(0,n_samples)\n",
    "plt.grid()\n",
    "plt.show()\n",
    "\n",
    "\n",
    "# tops = [t/n_samples for t in tops]\n",
    "# plt.bar(['top1','top5','top10','top20','top50','top100','top200'],tops)\n",
    "# plt.ylim(0,1)\n",
    "# plt.grid()\n",
    "# plt.show()"
   ]
  },
  {
   "cell_type": "code",
   "execution_count": null,
   "id": "e4ff8879",
   "metadata": {},
   "outputs": [],
   "source": []
  },
  {
   "cell_type": "code",
   "execution_count": null,
   "id": "d64a6f66",
   "metadata": {},
   "outputs": [],
   "source": []
  },
  {
   "cell_type": "code",
   "execution_count": null,
   "id": "3a49350e",
   "metadata": {},
   "outputs": [],
   "source": []
  },
  {
   "cell_type": "code",
   "execution_count": 369,
   "id": "4eeb5b2f",
   "metadata": {},
   "outputs": [
    {
     "data": {
      "application/vnd.plotly.v1+json": {
       "config": {
        "plotlyServerURL": "https://plot.ly"
       },
       "data": [
        {
         "alignmentgroup": "True",
         "hovertemplate": "x=%{x}<br>y=%{y}<extra></extra>",
         "legendgroup": "",
         "marker": {
          "color": "#636efa",
          "pattern": {
           "shape": ""
          }
         },
         "name": "",
         "offsetgroup": "",
         "orientation": "v",
         "showlegend": false,
         "textposition": "auto",
         "type": "bar",
         "x": [
          "top1",
          "top5",
          "top10",
          "top20",
          "top50",
          "top100",
          "top200"
         ],
         "xaxis": "x",
         "y": [
          1,
          8,
          9,
          11,
          17,
          24,
          36
         ],
         "yaxis": "y"
        }
       ],
       "layout": {
        "barmode": "relative",
        "legend": {
         "tracegroupgap": 0
        },
        "margin": {
         "t": 60
        },
        "template": {
         "data": {
          "bar": [
           {
            "error_x": {
             "color": "#2a3f5f"
            },
            "error_y": {
             "color": "#2a3f5f"
            },
            "marker": {
             "line": {
              "color": "#E5ECF6",
              "width": 0.5
             },
             "pattern": {
              "fillmode": "overlay",
              "size": 10,
              "solidity": 0.2
             }
            },
            "type": "bar"
           }
          ],
          "barpolar": [
           {
            "marker": {
             "line": {
              "color": "#E5ECF6",
              "width": 0.5
             },
             "pattern": {
              "fillmode": "overlay",
              "size": 10,
              "solidity": 0.2
             }
            },
            "type": "barpolar"
           }
          ],
          "carpet": [
           {
            "aaxis": {
             "endlinecolor": "#2a3f5f",
             "gridcolor": "white",
             "linecolor": "white",
             "minorgridcolor": "white",
             "startlinecolor": "#2a3f5f"
            },
            "baxis": {
             "endlinecolor": "#2a3f5f",
             "gridcolor": "white",
             "linecolor": "white",
             "minorgridcolor": "white",
             "startlinecolor": "#2a3f5f"
            },
            "type": "carpet"
           }
          ],
          "choropleth": [
           {
            "colorbar": {
             "outlinewidth": 0,
             "ticks": ""
            },
            "type": "choropleth"
           }
          ],
          "contour": [
           {
            "colorbar": {
             "outlinewidth": 0,
             "ticks": ""
            },
            "colorscale": [
             [
              0,
              "#0d0887"
             ],
             [
              0.1111111111111111,
              "#46039f"
             ],
             [
              0.2222222222222222,
              "#7201a8"
             ],
             [
              0.3333333333333333,
              "#9c179e"
             ],
             [
              0.4444444444444444,
              "#bd3786"
             ],
             [
              0.5555555555555556,
              "#d8576b"
             ],
             [
              0.6666666666666666,
              "#ed7953"
             ],
             [
              0.7777777777777778,
              "#fb9f3a"
             ],
             [
              0.8888888888888888,
              "#fdca26"
             ],
             [
              1,
              "#f0f921"
             ]
            ],
            "type": "contour"
           }
          ],
          "contourcarpet": [
           {
            "colorbar": {
             "outlinewidth": 0,
             "ticks": ""
            },
            "type": "contourcarpet"
           }
          ],
          "heatmap": [
           {
            "colorbar": {
             "outlinewidth": 0,
             "ticks": ""
            },
            "colorscale": [
             [
              0,
              "#0d0887"
             ],
             [
              0.1111111111111111,
              "#46039f"
             ],
             [
              0.2222222222222222,
              "#7201a8"
             ],
             [
              0.3333333333333333,
              "#9c179e"
             ],
             [
              0.4444444444444444,
              "#bd3786"
             ],
             [
              0.5555555555555556,
              "#d8576b"
             ],
             [
              0.6666666666666666,
              "#ed7953"
             ],
             [
              0.7777777777777778,
              "#fb9f3a"
             ],
             [
              0.8888888888888888,
              "#fdca26"
             ],
             [
              1,
              "#f0f921"
             ]
            ],
            "type": "heatmap"
           }
          ],
          "heatmapgl": [
           {
            "colorbar": {
             "outlinewidth": 0,
             "ticks": ""
            },
            "colorscale": [
             [
              0,
              "#0d0887"
             ],
             [
              0.1111111111111111,
              "#46039f"
             ],
             [
              0.2222222222222222,
              "#7201a8"
             ],
             [
              0.3333333333333333,
              "#9c179e"
             ],
             [
              0.4444444444444444,
              "#bd3786"
             ],
             [
              0.5555555555555556,
              "#d8576b"
             ],
             [
              0.6666666666666666,
              "#ed7953"
             ],
             [
              0.7777777777777778,
              "#fb9f3a"
             ],
             [
              0.8888888888888888,
              "#fdca26"
             ],
             [
              1,
              "#f0f921"
             ]
            ],
            "type": "heatmapgl"
           }
          ],
          "histogram": [
           {
            "marker": {
             "pattern": {
              "fillmode": "overlay",
              "size": 10,
              "solidity": 0.2
             }
            },
            "type": "histogram"
           }
          ],
          "histogram2d": [
           {
            "colorbar": {
             "outlinewidth": 0,
             "ticks": ""
            },
            "colorscale": [
             [
              0,
              "#0d0887"
             ],
             [
              0.1111111111111111,
              "#46039f"
             ],
             [
              0.2222222222222222,
              "#7201a8"
             ],
             [
              0.3333333333333333,
              "#9c179e"
             ],
             [
              0.4444444444444444,
              "#bd3786"
             ],
             [
              0.5555555555555556,
              "#d8576b"
             ],
             [
              0.6666666666666666,
              "#ed7953"
             ],
             [
              0.7777777777777778,
              "#fb9f3a"
             ],
             [
              0.8888888888888888,
              "#fdca26"
             ],
             [
              1,
              "#f0f921"
             ]
            ],
            "type": "histogram2d"
           }
          ],
          "histogram2dcontour": [
           {
            "colorbar": {
             "outlinewidth": 0,
             "ticks": ""
            },
            "colorscale": [
             [
              0,
              "#0d0887"
             ],
             [
              0.1111111111111111,
              "#46039f"
             ],
             [
              0.2222222222222222,
              "#7201a8"
             ],
             [
              0.3333333333333333,
              "#9c179e"
             ],
             [
              0.4444444444444444,
              "#bd3786"
             ],
             [
              0.5555555555555556,
              "#d8576b"
             ],
             [
              0.6666666666666666,
              "#ed7953"
             ],
             [
              0.7777777777777778,
              "#fb9f3a"
             ],
             [
              0.8888888888888888,
              "#fdca26"
             ],
             [
              1,
              "#f0f921"
             ]
            ],
            "type": "histogram2dcontour"
           }
          ],
          "mesh3d": [
           {
            "colorbar": {
             "outlinewidth": 0,
             "ticks": ""
            },
            "type": "mesh3d"
           }
          ],
          "parcoords": [
           {
            "line": {
             "colorbar": {
              "outlinewidth": 0,
              "ticks": ""
             }
            },
            "type": "parcoords"
           }
          ],
          "pie": [
           {
            "automargin": true,
            "type": "pie"
           }
          ],
          "scatter": [
           {
            "fillpattern": {
             "fillmode": "overlay",
             "size": 10,
             "solidity": 0.2
            },
            "type": "scatter"
           }
          ],
          "scatter3d": [
           {
            "line": {
             "colorbar": {
              "outlinewidth": 0,
              "ticks": ""
             }
            },
            "marker": {
             "colorbar": {
              "outlinewidth": 0,
              "ticks": ""
             }
            },
            "type": "scatter3d"
           }
          ],
          "scattercarpet": [
           {
            "marker": {
             "colorbar": {
              "outlinewidth": 0,
              "ticks": ""
             }
            },
            "type": "scattercarpet"
           }
          ],
          "scattergeo": [
           {
            "marker": {
             "colorbar": {
              "outlinewidth": 0,
              "ticks": ""
             }
            },
            "type": "scattergeo"
           }
          ],
          "scattergl": [
           {
            "marker": {
             "colorbar": {
              "outlinewidth": 0,
              "ticks": ""
             }
            },
            "type": "scattergl"
           }
          ],
          "scattermapbox": [
           {
            "marker": {
             "colorbar": {
              "outlinewidth": 0,
              "ticks": ""
             }
            },
            "type": "scattermapbox"
           }
          ],
          "scatterpolar": [
           {
            "marker": {
             "colorbar": {
              "outlinewidth": 0,
              "ticks": ""
             }
            },
            "type": "scatterpolar"
           }
          ],
          "scatterpolargl": [
           {
            "marker": {
             "colorbar": {
              "outlinewidth": 0,
              "ticks": ""
             }
            },
            "type": "scatterpolargl"
           }
          ],
          "scatterternary": [
           {
            "marker": {
             "colorbar": {
              "outlinewidth": 0,
              "ticks": ""
             }
            },
            "type": "scatterternary"
           }
          ],
          "surface": [
           {
            "colorbar": {
             "outlinewidth": 0,
             "ticks": ""
            },
            "colorscale": [
             [
              0,
              "#0d0887"
             ],
             [
              0.1111111111111111,
              "#46039f"
             ],
             [
              0.2222222222222222,
              "#7201a8"
             ],
             [
              0.3333333333333333,
              "#9c179e"
             ],
             [
              0.4444444444444444,
              "#bd3786"
             ],
             [
              0.5555555555555556,
              "#d8576b"
             ],
             [
              0.6666666666666666,
              "#ed7953"
             ],
             [
              0.7777777777777778,
              "#fb9f3a"
             ],
             [
              0.8888888888888888,
              "#fdca26"
             ],
             [
              1,
              "#f0f921"
             ]
            ],
            "type": "surface"
           }
          ],
          "table": [
           {
            "cells": {
             "fill": {
              "color": "#EBF0F8"
             },
             "line": {
              "color": "white"
             }
            },
            "header": {
             "fill": {
              "color": "#C8D4E3"
             },
             "line": {
              "color": "white"
             }
            },
            "type": "table"
           }
          ]
         },
         "layout": {
          "annotationdefaults": {
           "arrowcolor": "#2a3f5f",
           "arrowhead": 0,
           "arrowwidth": 1
          },
          "autotypenumbers": "strict",
          "coloraxis": {
           "colorbar": {
            "outlinewidth": 0,
            "ticks": ""
           }
          },
          "colorscale": {
           "diverging": [
            [
             0,
             "#8e0152"
            ],
            [
             0.1,
             "#c51b7d"
            ],
            [
             0.2,
             "#de77ae"
            ],
            [
             0.3,
             "#f1b6da"
            ],
            [
             0.4,
             "#fde0ef"
            ],
            [
             0.5,
             "#f7f7f7"
            ],
            [
             0.6,
             "#e6f5d0"
            ],
            [
             0.7,
             "#b8e186"
            ],
            [
             0.8,
             "#7fbc41"
            ],
            [
             0.9,
             "#4d9221"
            ],
            [
             1,
             "#276419"
            ]
           ],
           "sequential": [
            [
             0,
             "#0d0887"
            ],
            [
             0.1111111111111111,
             "#46039f"
            ],
            [
             0.2222222222222222,
             "#7201a8"
            ],
            [
             0.3333333333333333,
             "#9c179e"
            ],
            [
             0.4444444444444444,
             "#bd3786"
            ],
            [
             0.5555555555555556,
             "#d8576b"
            ],
            [
             0.6666666666666666,
             "#ed7953"
            ],
            [
             0.7777777777777778,
             "#fb9f3a"
            ],
            [
             0.8888888888888888,
             "#fdca26"
            ],
            [
             1,
             "#f0f921"
            ]
           ],
           "sequentialminus": [
            [
             0,
             "#0d0887"
            ],
            [
             0.1111111111111111,
             "#46039f"
            ],
            [
             0.2222222222222222,
             "#7201a8"
            ],
            [
             0.3333333333333333,
             "#9c179e"
            ],
            [
             0.4444444444444444,
             "#bd3786"
            ],
            [
             0.5555555555555556,
             "#d8576b"
            ],
            [
             0.6666666666666666,
             "#ed7953"
            ],
            [
             0.7777777777777778,
             "#fb9f3a"
            ],
            [
             0.8888888888888888,
             "#fdca26"
            ],
            [
             1,
             "#f0f921"
            ]
           ]
          },
          "colorway": [
           "#636efa",
           "#EF553B",
           "#00cc96",
           "#ab63fa",
           "#FFA15A",
           "#19d3f3",
           "#FF6692",
           "#B6E880",
           "#FF97FF",
           "#FECB52"
          ],
          "font": {
           "color": "#2a3f5f"
          },
          "geo": {
           "bgcolor": "white",
           "lakecolor": "white",
           "landcolor": "#E5ECF6",
           "showlakes": true,
           "showland": true,
           "subunitcolor": "white"
          },
          "hoverlabel": {
           "align": "left"
          },
          "hovermode": "closest",
          "mapbox": {
           "style": "light"
          },
          "paper_bgcolor": "white",
          "plot_bgcolor": "#E5ECF6",
          "polar": {
           "angularaxis": {
            "gridcolor": "white",
            "linecolor": "white",
            "ticks": ""
           },
           "bgcolor": "#E5ECF6",
           "radialaxis": {
            "gridcolor": "white",
            "linecolor": "white",
            "ticks": ""
           }
          },
          "scene": {
           "xaxis": {
            "backgroundcolor": "#E5ECF6",
            "gridcolor": "white",
            "gridwidth": 2,
            "linecolor": "white",
            "showbackground": true,
            "ticks": "",
            "zerolinecolor": "white"
           },
           "yaxis": {
            "backgroundcolor": "#E5ECF6",
            "gridcolor": "white",
            "gridwidth": 2,
            "linecolor": "white",
            "showbackground": true,
            "ticks": "",
            "zerolinecolor": "white"
           },
           "zaxis": {
            "backgroundcolor": "#E5ECF6",
            "gridcolor": "white",
            "gridwidth": 2,
            "linecolor": "white",
            "showbackground": true,
            "ticks": "",
            "zerolinecolor": "white"
           }
          },
          "shapedefaults": {
           "line": {
            "color": "#2a3f5f"
           }
          },
          "ternary": {
           "aaxis": {
            "gridcolor": "white",
            "linecolor": "white",
            "ticks": ""
           },
           "baxis": {
            "gridcolor": "white",
            "linecolor": "white",
            "ticks": ""
           },
           "bgcolor": "#E5ECF6",
           "caxis": {
            "gridcolor": "white",
            "linecolor": "white",
            "ticks": ""
           }
          },
          "title": {
           "x": 0.05
          },
          "xaxis": {
           "automargin": true,
           "gridcolor": "white",
           "linecolor": "white",
           "ticks": "",
           "title": {
            "standoff": 15
           },
           "zerolinecolor": "white",
           "zerolinewidth": 2
          },
          "yaxis": {
           "automargin": true,
           "gridcolor": "white",
           "linecolor": "white",
           "ticks": "",
           "title": {
            "standoff": 15
           },
           "zerolinecolor": "white",
           "zerolinewidth": 2
          }
         }
        },
        "xaxis": {
         "anchor": "y",
         "domain": [
          0,
          1
         ],
         "title": {
          "text": "x"
         }
        },
        "yaxis": {
         "anchor": "x",
         "domain": [
          0,
          1
         ],
         "title": {
          "text": "y"
         }
        }
       }
      },
      "text/html": [
       "<div>                            <div id=\"e8194c99-355f-4abc-b7c5-24ff6ab4aca9\" class=\"plotly-graph-div\" style=\"height:525px; width:100%;\"></div>            <script type=\"text/javascript\">                require([\"plotly\"], function(Plotly) {                    window.PLOTLYENV=window.PLOTLYENV || {};                                    if (document.getElementById(\"e8194c99-355f-4abc-b7c5-24ff6ab4aca9\")) {                    Plotly.newPlot(                        \"e8194c99-355f-4abc-b7c5-24ff6ab4aca9\",                        [{\"alignmentgroup\":\"True\",\"hovertemplate\":\"x=%{x}<br>y=%{y}<extra></extra>\",\"legendgroup\":\"\",\"marker\":{\"color\":\"#636efa\",\"pattern\":{\"shape\":\"\"}},\"name\":\"\",\"offsetgroup\":\"\",\"orientation\":\"v\",\"showlegend\":false,\"textposition\":\"auto\",\"x\":[\"top1\",\"top5\",\"top10\",\"top20\",\"top50\",\"top100\",\"top200\"],\"xaxis\":\"x\",\"y\":[1,8,9,11,17,24,36],\"yaxis\":\"y\",\"type\":\"bar\"}],                        {\"template\":{\"data\":{\"histogram2dcontour\":[{\"type\":\"histogram2dcontour\",\"colorbar\":{\"outlinewidth\":0,\"ticks\":\"\"},\"colorscale\":[[0.0,\"#0d0887\"],[0.1111111111111111,\"#46039f\"],[0.2222222222222222,\"#7201a8\"],[0.3333333333333333,\"#9c179e\"],[0.4444444444444444,\"#bd3786\"],[0.5555555555555556,\"#d8576b\"],[0.6666666666666666,\"#ed7953\"],[0.7777777777777778,\"#fb9f3a\"],[0.8888888888888888,\"#fdca26\"],[1.0,\"#f0f921\"]]}],\"choropleth\":[{\"type\":\"choropleth\",\"colorbar\":{\"outlinewidth\":0,\"ticks\":\"\"}}],\"histogram2d\":[{\"type\":\"histogram2d\",\"colorbar\":{\"outlinewidth\":0,\"ticks\":\"\"},\"colorscale\":[[0.0,\"#0d0887\"],[0.1111111111111111,\"#46039f\"],[0.2222222222222222,\"#7201a8\"],[0.3333333333333333,\"#9c179e\"],[0.4444444444444444,\"#bd3786\"],[0.5555555555555556,\"#d8576b\"],[0.6666666666666666,\"#ed7953\"],[0.7777777777777778,\"#fb9f3a\"],[0.8888888888888888,\"#fdca26\"],[1.0,\"#f0f921\"]]}],\"heatmap\":[{\"type\":\"heatmap\",\"colorbar\":{\"outlinewidth\":0,\"ticks\":\"\"},\"colorscale\":[[0.0,\"#0d0887\"],[0.1111111111111111,\"#46039f\"],[0.2222222222222222,\"#7201a8\"],[0.3333333333333333,\"#9c179e\"],[0.4444444444444444,\"#bd3786\"],[0.5555555555555556,\"#d8576b\"],[0.6666666666666666,\"#ed7953\"],[0.7777777777777778,\"#fb9f3a\"],[0.8888888888888888,\"#fdca26\"],[1.0,\"#f0f921\"]]}],\"heatmapgl\":[{\"type\":\"heatmapgl\",\"colorbar\":{\"outlinewidth\":0,\"ticks\":\"\"},\"colorscale\":[[0.0,\"#0d0887\"],[0.1111111111111111,\"#46039f\"],[0.2222222222222222,\"#7201a8\"],[0.3333333333333333,\"#9c179e\"],[0.4444444444444444,\"#bd3786\"],[0.5555555555555556,\"#d8576b\"],[0.6666666666666666,\"#ed7953\"],[0.7777777777777778,\"#fb9f3a\"],[0.8888888888888888,\"#fdca26\"],[1.0,\"#f0f921\"]]}],\"contourcarpet\":[{\"type\":\"contourcarpet\",\"colorbar\":{\"outlinewidth\":0,\"ticks\":\"\"}}],\"contour\":[{\"type\":\"contour\",\"colorbar\":{\"outlinewidth\":0,\"ticks\":\"\"},\"colorscale\":[[0.0,\"#0d0887\"],[0.1111111111111111,\"#46039f\"],[0.2222222222222222,\"#7201a8\"],[0.3333333333333333,\"#9c179e\"],[0.4444444444444444,\"#bd3786\"],[0.5555555555555556,\"#d8576b\"],[0.6666666666666666,\"#ed7953\"],[0.7777777777777778,\"#fb9f3a\"],[0.8888888888888888,\"#fdca26\"],[1.0,\"#f0f921\"]]}],\"surface\":[{\"type\":\"surface\",\"colorbar\":{\"outlinewidth\":0,\"ticks\":\"\"},\"colorscale\":[[0.0,\"#0d0887\"],[0.1111111111111111,\"#46039f\"],[0.2222222222222222,\"#7201a8\"],[0.3333333333333333,\"#9c179e\"],[0.4444444444444444,\"#bd3786\"],[0.5555555555555556,\"#d8576b\"],[0.6666666666666666,\"#ed7953\"],[0.7777777777777778,\"#fb9f3a\"],[0.8888888888888888,\"#fdca26\"],[1.0,\"#f0f921\"]]}],\"mesh3d\":[{\"type\":\"mesh3d\",\"colorbar\":{\"outlinewidth\":0,\"ticks\":\"\"}}],\"scatter\":[{\"fillpattern\":{\"fillmode\":\"overlay\",\"size\":10,\"solidity\":0.2},\"type\":\"scatter\"}],\"parcoords\":[{\"type\":\"parcoords\",\"line\":{\"colorbar\":{\"outlinewidth\":0,\"ticks\":\"\"}}}],\"scatterpolargl\":[{\"type\":\"scatterpolargl\",\"marker\":{\"colorbar\":{\"outlinewidth\":0,\"ticks\":\"\"}}}],\"bar\":[{\"error_x\":{\"color\":\"#2a3f5f\"},\"error_y\":{\"color\":\"#2a3f5f\"},\"marker\":{\"line\":{\"color\":\"#E5ECF6\",\"width\":0.5},\"pattern\":{\"fillmode\":\"overlay\",\"size\":10,\"solidity\":0.2}},\"type\":\"bar\"}],\"scattergeo\":[{\"type\":\"scattergeo\",\"marker\":{\"colorbar\":{\"outlinewidth\":0,\"ticks\":\"\"}}}],\"scatterpolar\":[{\"type\":\"scatterpolar\",\"marker\":{\"colorbar\":{\"outlinewidth\":0,\"ticks\":\"\"}}}],\"histogram\":[{\"marker\":{\"pattern\":{\"fillmode\":\"overlay\",\"size\":10,\"solidity\":0.2}},\"type\":\"histogram\"}],\"scattergl\":[{\"type\":\"scattergl\",\"marker\":{\"colorbar\":{\"outlinewidth\":0,\"ticks\":\"\"}}}],\"scatter3d\":[{\"type\":\"scatter3d\",\"line\":{\"colorbar\":{\"outlinewidth\":0,\"ticks\":\"\"}},\"marker\":{\"colorbar\":{\"outlinewidth\":0,\"ticks\":\"\"}}}],\"scattermapbox\":[{\"type\":\"scattermapbox\",\"marker\":{\"colorbar\":{\"outlinewidth\":0,\"ticks\":\"\"}}}],\"scatterternary\":[{\"type\":\"scatterternary\",\"marker\":{\"colorbar\":{\"outlinewidth\":0,\"ticks\":\"\"}}}],\"scattercarpet\":[{\"type\":\"scattercarpet\",\"marker\":{\"colorbar\":{\"outlinewidth\":0,\"ticks\":\"\"}}}],\"carpet\":[{\"aaxis\":{\"endlinecolor\":\"#2a3f5f\",\"gridcolor\":\"white\",\"linecolor\":\"white\",\"minorgridcolor\":\"white\",\"startlinecolor\":\"#2a3f5f\"},\"baxis\":{\"endlinecolor\":\"#2a3f5f\",\"gridcolor\":\"white\",\"linecolor\":\"white\",\"minorgridcolor\":\"white\",\"startlinecolor\":\"#2a3f5f\"},\"type\":\"carpet\"}],\"table\":[{\"cells\":{\"fill\":{\"color\":\"#EBF0F8\"},\"line\":{\"color\":\"white\"}},\"header\":{\"fill\":{\"color\":\"#C8D4E3\"},\"line\":{\"color\":\"white\"}},\"type\":\"table\"}],\"barpolar\":[{\"marker\":{\"line\":{\"color\":\"#E5ECF6\",\"width\":0.5},\"pattern\":{\"fillmode\":\"overlay\",\"size\":10,\"solidity\":0.2}},\"type\":\"barpolar\"}],\"pie\":[{\"automargin\":true,\"type\":\"pie\"}]},\"layout\":{\"autotypenumbers\":\"strict\",\"colorway\":[\"#636efa\",\"#EF553B\",\"#00cc96\",\"#ab63fa\",\"#FFA15A\",\"#19d3f3\",\"#FF6692\",\"#B6E880\",\"#FF97FF\",\"#FECB52\"],\"font\":{\"color\":\"#2a3f5f\"},\"hovermode\":\"closest\",\"hoverlabel\":{\"align\":\"left\"},\"paper_bgcolor\":\"white\",\"plot_bgcolor\":\"#E5ECF6\",\"polar\":{\"bgcolor\":\"#E5ECF6\",\"angularaxis\":{\"gridcolor\":\"white\",\"linecolor\":\"white\",\"ticks\":\"\"},\"radialaxis\":{\"gridcolor\":\"white\",\"linecolor\":\"white\",\"ticks\":\"\"}},\"ternary\":{\"bgcolor\":\"#E5ECF6\",\"aaxis\":{\"gridcolor\":\"white\",\"linecolor\":\"white\",\"ticks\":\"\"},\"baxis\":{\"gridcolor\":\"white\",\"linecolor\":\"white\",\"ticks\":\"\"},\"caxis\":{\"gridcolor\":\"white\",\"linecolor\":\"white\",\"ticks\":\"\"}},\"coloraxis\":{\"colorbar\":{\"outlinewidth\":0,\"ticks\":\"\"}},\"colorscale\":{\"sequential\":[[0.0,\"#0d0887\"],[0.1111111111111111,\"#46039f\"],[0.2222222222222222,\"#7201a8\"],[0.3333333333333333,\"#9c179e\"],[0.4444444444444444,\"#bd3786\"],[0.5555555555555556,\"#d8576b\"],[0.6666666666666666,\"#ed7953\"],[0.7777777777777778,\"#fb9f3a\"],[0.8888888888888888,\"#fdca26\"],[1.0,\"#f0f921\"]],\"sequentialminus\":[[0.0,\"#0d0887\"],[0.1111111111111111,\"#46039f\"],[0.2222222222222222,\"#7201a8\"],[0.3333333333333333,\"#9c179e\"],[0.4444444444444444,\"#bd3786\"],[0.5555555555555556,\"#d8576b\"],[0.6666666666666666,\"#ed7953\"],[0.7777777777777778,\"#fb9f3a\"],[0.8888888888888888,\"#fdca26\"],[1.0,\"#f0f921\"]],\"diverging\":[[0,\"#8e0152\"],[0.1,\"#c51b7d\"],[0.2,\"#de77ae\"],[0.3,\"#f1b6da\"],[0.4,\"#fde0ef\"],[0.5,\"#f7f7f7\"],[0.6,\"#e6f5d0\"],[0.7,\"#b8e186\"],[0.8,\"#7fbc41\"],[0.9,\"#4d9221\"],[1,\"#276419\"]]},\"xaxis\":{\"gridcolor\":\"white\",\"linecolor\":\"white\",\"ticks\":\"\",\"title\":{\"standoff\":15},\"zerolinecolor\":\"white\",\"automargin\":true,\"zerolinewidth\":2},\"yaxis\":{\"gridcolor\":\"white\",\"linecolor\":\"white\",\"ticks\":\"\",\"title\":{\"standoff\":15},\"zerolinecolor\":\"white\",\"automargin\":true,\"zerolinewidth\":2},\"scene\":{\"xaxis\":{\"backgroundcolor\":\"#E5ECF6\",\"gridcolor\":\"white\",\"linecolor\":\"white\",\"showbackground\":true,\"ticks\":\"\",\"zerolinecolor\":\"white\",\"gridwidth\":2},\"yaxis\":{\"backgroundcolor\":\"#E5ECF6\",\"gridcolor\":\"white\",\"linecolor\":\"white\",\"showbackground\":true,\"ticks\":\"\",\"zerolinecolor\":\"white\",\"gridwidth\":2},\"zaxis\":{\"backgroundcolor\":\"#E5ECF6\",\"gridcolor\":\"white\",\"linecolor\":\"white\",\"showbackground\":true,\"ticks\":\"\",\"zerolinecolor\":\"white\",\"gridwidth\":2}},\"shapedefaults\":{\"line\":{\"color\":\"#2a3f5f\"}},\"annotationdefaults\":{\"arrowcolor\":\"#2a3f5f\",\"arrowhead\":0,\"arrowwidth\":1},\"geo\":{\"bgcolor\":\"white\",\"landcolor\":\"#E5ECF6\",\"subunitcolor\":\"white\",\"showland\":true,\"showlakes\":true,\"lakecolor\":\"white\"},\"title\":{\"x\":0.05},\"mapbox\":{\"style\":\"light\"}}},\"xaxis\":{\"anchor\":\"y\",\"domain\":[0.0,1.0],\"title\":{\"text\":\"x\"}},\"yaxis\":{\"anchor\":\"x\",\"domain\":[0.0,1.0],\"title\":{\"text\":\"y\"}},\"legend\":{\"tracegroupgap\":0},\"margin\":{\"t\":60},\"barmode\":\"relative\"},                        {\"responsive\": true}                    ).then(function(){\n",
       "                            \n",
       "var gd = document.getElementById('e8194c99-355f-4abc-b7c5-24ff6ab4aca9');\n",
       "var x = new MutationObserver(function (mutations, observer) {{\n",
       "        var display = window.getComputedStyle(gd).display;\n",
       "        if (!display || display === 'none') {{\n",
       "            console.log([gd, 'removed!']);\n",
       "            Plotly.purge(gd);\n",
       "            observer.disconnect();\n",
       "        }}\n",
       "}});\n",
       "\n",
       "// Listen for the removal of the full notebook cells\n",
       "var notebookContainer = gd.closest('#notebook-container');\n",
       "if (notebookContainer) {{\n",
       "    x.observe(notebookContainer, {childList: true});\n",
       "}}\n",
       "\n",
       "// Listen for the clearing of the current output cell\n",
       "var outputEl = gd.closest('.output');\n",
       "if (outputEl) {{\n",
       "    x.observe(outputEl, {childList: true});\n",
       "}}\n",
       "\n",
       "                        })                };                });            </script>        </div>"
      ]
     },
     "metadata": {},
     "output_type": "display_data"
    }
   ],
   "source": [
    "import plotly.express as px\n",
    "# data_canada = px.data.gapminder().query(\"country == 'Canada'\")\n",
    "fig = px.bar(x=['top1','top5','top10','top20','top50','top100','top200'], y=tops)\n",
    "\n",
    "fig.show()"
   ]
  },
  {
   "cell_type": "code",
   "execution_count": 370,
   "id": "3b54689e",
   "metadata": {},
   "outputs": [
    {
     "data": {
      "text/html": [
       "<div>\n",
       "<style scoped>\n",
       "    .dataframe tbody tr th:only-of-type {\n",
       "        vertical-align: middle;\n",
       "    }\n",
       "\n",
       "    .dataframe tbody tr th {\n",
       "        vertical-align: top;\n",
       "    }\n",
       "\n",
       "    .dataframe thead th {\n",
       "        text-align: right;\n",
       "    }\n",
       "</style>\n",
       "<table border=\"1\" class=\"dataframe\">\n",
       "  <thead>\n",
       "    <tr style=\"text-align: right;\">\n",
       "      <th></th>\n",
       "      <th>similarities</th>\n",
       "      <th>item_id</th>\n",
       "      <th>cluster</th>\n",
       "      <th>session_id</th>\n",
       "    </tr>\n",
       "  </thead>\n",
       "  <tbody>\n",
       "    <tr>\n",
       "      <th>118476</th>\n",
       "      <td>0.999193</td>\n",
       "      <td>3462</td>\n",
       "      <td>3</td>\n",
       "      <td>2629688</td>\n",
       "    </tr>\n",
       "    <tr>\n",
       "      <th>195483</th>\n",
       "      <td>0.998813</td>\n",
       "      <td>4590</td>\n",
       "      <td>3</td>\n",
       "      <td>178759</td>\n",
       "    </tr>\n",
       "    <tr>\n",
       "      <th>227270</th>\n",
       "      <td>0.998724</td>\n",
       "      <td>24222</td>\n",
       "      <td>5</td>\n",
       "      <td>2231707</td>\n",
       "    </tr>\n",
       "    <tr>\n",
       "      <th>137839</th>\n",
       "      <td>0.998697</td>\n",
       "      <td>7367</td>\n",
       "      <td>2</td>\n",
       "      <td>3819466</td>\n",
       "    </tr>\n",
       "    <tr>\n",
       "      <th>132732</th>\n",
       "      <td>0.998681</td>\n",
       "      <td>24708</td>\n",
       "      <td>1</td>\n",
       "      <td>4133836</td>\n",
       "    </tr>\n",
       "    <tr>\n",
       "      <th>...</th>\n",
       "      <td>...</td>\n",
       "      <td>...</td>\n",
       "      <td>...</td>\n",
       "      <td>...</td>\n",
       "    </tr>\n",
       "    <tr>\n",
       "      <th>33650</th>\n",
       "      <td>0.000000</td>\n",
       "      <td>16073</td>\n",
       "      <td>2</td>\n",
       "      <td>1354411</td>\n",
       "    </tr>\n",
       "    <tr>\n",
       "      <th>86648</th>\n",
       "      <td>0.000000</td>\n",
       "      <td>4156</td>\n",
       "      <td>5</td>\n",
       "      <td>3538971</td>\n",
       "    </tr>\n",
       "    <tr>\n",
       "      <th>86638</th>\n",
       "      <td>0.000000</td>\n",
       "      <td>4156</td>\n",
       "      <td>5</td>\n",
       "      <td>1888223</td>\n",
       "    </tr>\n",
       "    <tr>\n",
       "      <th>33660</th>\n",
       "      <td>0.000000</td>\n",
       "      <td>16073</td>\n",
       "      <td>2</td>\n",
       "      <td>2122706</td>\n",
       "    </tr>\n",
       "    <tr>\n",
       "      <th>127443</th>\n",
       "      <td>0.000000</td>\n",
       "      <td>15565</td>\n",
       "      <td>2</td>\n",
       "      <td>1904625</td>\n",
       "    </tr>\n",
       "  </tbody>\n",
       "</table>\n",
       "<p>234036 rows × 4 columns</p>\n",
       "</div>"
      ],
      "text/plain": [
       "        similarities  item_id  cluster  session_id\n",
       "118476      0.999193     3462        3     2629688\n",
       "195483      0.998813     4590        3      178759\n",
       "227270      0.998724    24222        5     2231707\n",
       "137839      0.998697     7367        2     3819466\n",
       "132732      0.998681    24708        1     4133836\n",
       "...              ...      ...      ...         ...\n",
       "33650       0.000000    16073        2     1354411\n",
       "86648       0.000000     4156        5     3538971\n",
       "86638       0.000000     4156        5     1888223\n",
       "33660       0.000000    16073        2     2122706\n",
       "127443      0.000000    15565        2     1904625\n",
       "\n",
       "[234036 rows x 4 columns]"
      ]
     },
     "execution_count": 370,
     "metadata": {},
     "output_type": "execute_result"
    }
   ],
   "source": [
    "results"
   ]
  },
  {
   "cell_type": "code",
   "execution_count": null,
   "id": "b231525e",
   "metadata": {},
   "outputs": [],
   "source": []
  },
  {
   "cell_type": "code",
   "execution_count": null,
   "id": "c9cf78fd",
   "metadata": {},
   "outputs": [],
   "source": []
  }
 ],
 "metadata": {
  "kernelspec": {
   "display_name": "Python 3 (ipykernel)",
   "language": "python",
   "name": "python3"
  },
  "language_info": {
   "codemirror_mode": {
    "name": "ipython",
    "version": 3
   },
   "file_extension": ".py",
   "mimetype": "text/x-python",
   "name": "python",
   "nbconvert_exporter": "python",
   "pygments_lexer": "ipython3",
   "version": "3.8.10"
  }
 },
 "nbformat": 4,
 "nbformat_minor": 5
}
